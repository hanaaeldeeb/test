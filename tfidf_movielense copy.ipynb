{
    "cells": [
        {
            "cell_type": "code",
            "execution_count": 1,
            "metadata": {
                "scrolled": true
            },
            "outputs": [
                {
                    "name": "stdout",
                    "output_type": "stream",
                    "text": [
                        "System version: 3.9.18 (main, Sep 11 2023, 13:41:44) \n",
                        "[GCC 11.2.0]\n"
                    ]
                }
            ],
            "source": [
                "import sys\n",
                "from recommenders.datasets.python_splitters import python_chrono_split\n",
                "\n",
                "from recommenders.datasets import covid_utils\n",
                "from recommenders.models.tfidf.tfidf_utils import TfidfRecommender\n",
                "from recommenders.datasets import movielens\n",
                "from recommenders.evaluation.python_evaluation import map_at_k, ndcg_at_k, precision_at_k, recall_at_k\n",
                "import pandas as pd"
            ]
        },
        {
            "cell_type": "code",
            "execution_count": 20,
            "metadata": {},
            "outputs": [],
            "source": [
                "movies_df = pd.read_csv('/home/ee303/test/dataset/GENRES/ml-1m/movies.dat',\n",
                "                        delimiter='::', engine= 'python', header=None,\n",
                "                        names=['movie_name', 'genre'],encoding='latin1')\n",
                "#preprocess movie.csv file\n",
                "movies_df.reset_index(inplace=True)\n",
                "movies_df.rename(columns={\"index\": \"itemID\"}, inplace=True)"
            ]
        },
        {
            "cell_type": "code",
            "execution_count": 25,
            "metadata": {},
            "outputs": [],
            "source": [
                "#applying tfidf to genres\n",
                "recommender=TfidfRecommender(id_col=\"itemID\")\n",
                "clean_movies=recommender.clean_dataframe(movies_df,cols_to_clean=[\"genre\"],new_col_name=\"genres\").drop(columns=[\"genre\"])\n",
                "tf, vectors_tokenized = recommender.tokenize_text(df_clean=clean_movies, text_col=\"genres\")\n",
                "recommender.fit(tf, vectors_tokenized)"
            ]
        },
        {
            "cell_type": "code",
            "execution_count": 5,
            "metadata": {},
            "outputs": [],
            "source": [
                "df = movielens.load_pandas_df(size=\"1m\", local_cache_path='./dataset/')\n",
                "\n",
                "train,validate, test = python_chrono_split(df, ratio=[0.8,0.1,0.1], filter_by=\"user\",col_user=\"userID\", col_item=\"itemID\", col_timestamp=\"timestamp\")\n"
            ]
        },
        {
            "cell_type": "code",
            "execution_count": 60,
            "metadata": {},
            "outputs": [],
            "source": [
                "#creat rating matrix\n",
                "r_matrix = df.pivot_table(index='userID', columns='itemID', values='rating')\n"
            ]
        },
        {
            "cell_type": "code",
            "execution_count": 53,
            "metadata": {},
            "outputs": [],
            "source": [
                "#Generate recommendations based on the k most similar items to the last item rated by the user,according to timestamp,movies_df,movies info\n",
                "def recommended_items(user_id,k=None):\n",
                "    target_item=int(validate[validate[\"userID\"] == user_id][\"itemID\"].iloc[-1])\n",
                "    recommender.recommend_top_k_items(clean_movies,20)\n",
                "    sim_mov=[t[1] for t in(recommender.recommendations[target_item])][:k]\n",
                "    return sim_mov"
            ]
        },
        {
            "cell_type": "code",
            "execution_count": 77,
            "metadata": {},
            "outputs": [],
            "source": [
                "\n",
                "def actual_items(user_id, rating_matrix=r_matrix):   \n",
                "    user_ratings = rating_matrix.loc[user_id]\n",
                "    movies_rated = user_ratings.dropna().index.tolist()\n",
                "    return movies_rated "
            ]
        },
        {
            "cell_type": "code",
            "execution_count": 85,
            "metadata": {},
            "outputs": [],
            "source": [
                "def average_recall_at_k(df, k, rating_matrix=r_matrix):\n",
                "    total_recall = 0\n",
                "    num_users = 0\n",
                "    for user_id in df['userID'].unique():\n",
                "       \n",
                "        recall_at_k_value = recall_at_k(user_id, k, rating_matrix)       \n",
                "        total_recall += recall_at_k_value\n",
                "        num_users += 1\n",
                "    average_recall = total_recall / num_users if num_users > 0 else 0\n",
                "    \n",
                "    return average_recall"
            ]
        },
        {
            "cell_type": "code",
            "execution_count": 86,
            "metadata": {},
            "outputs": [],
            "source": [
                "average_recall_at_k(test,20)"
            ]
        },
        {
            "cell_type": "code",
            "execution_count": null,
            "metadata": {},
            "outputs": [],
            "source": []
        }
    ],
    "metadata": {
        "kernelspec": {
            "display_name": "Python 3",
            "language": "python",
            "name": "python3"
        },
        "language_info": {
            "codemirror_mode": {
                "name": "ipython",
                "version": 3
            },
            "file_extension": ".py",
            "mimetype": "text/x-python",
            "name": "python",
            "nbconvert_exporter": "python",
            "pygments_lexer": "ipython3",
            "version": "3.9.18"
        }
    },
    "nbformat": 4,
    "nbformat_minor": 2
}
